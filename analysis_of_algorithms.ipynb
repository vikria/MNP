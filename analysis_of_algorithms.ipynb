{
 "cells": [
  {
   "cell_type": "markdown",
   "id": "9b80167f",
   "metadata": {},
   "source": [
    "## <div style=\"text-align: right\">Example of usage </div>"
   ]
  },
  {
   "cell_type": "code",
   "execution_count": 9,
   "id": "04c6449e",
   "metadata": {},
   "outputs": [],
   "source": [
    "from core import MNP, FileSource, ExternalSource\n",
    "from algorithms import ExactAlgorithm, SimpleHeuristics, TabuSearch, SimulatedAnnealing, Genetic, \\\n",
    "AntColonyOptimization \n",
    "\n",
    "import numpy as np"
   ]
  },
  {
   "cell_type": "code",
   "execution_count": 2,
   "id": "24fbf37a",
   "metadata": {},
   "outputs": [],
   "source": [
    "data_small = ExternalSource(data=[8, 6, 7, 4, 5])\n",
    "data_big = FileSource(filepath='tests/instances/data')"
   ]
  },
  {
   "cell_type": "markdown",
   "id": "70175629",
   "metadata": {},
   "source": [
    "### Exact algorithm"
   ]
  },
  {
   "cell_type": "code",
   "execution_count": 4,
   "id": "522a8e7e",
   "metadata": {},
   "outputs": [
    {
     "name": "stdout",
     "output_type": "stream",
     "text": [
      "Set parameter Username\n",
      "Academic license - for non-commercial use only - expires 2022-01-21\n",
      "Gurobi Optimizer version 9.5.0 build v9.5.0rc5 (linux64)\n",
      "Thread count: 2 physical cores, 4 logical processors, using up to 4 threads\n",
      "Optimize a model with 5 rows, 15 columns and 15 nonzeros\n",
      "Model fingerprint: 0xfc2355ba\n",
      "Model has 45 quadratic objective terms\n",
      "Variable types: 0 continuous, 15 integer (15 binary)\n",
      "Coefficient statistics:\n",
      "  Matrix range     [1e+00, 1e+00]\n",
      "  Objective range  [8e+01, 2e+02]\n",
      "  QObjective range [3e+01, 2e+02]\n",
      "  Bounds range     [1e+00, 1e+00]\n",
      "  RHS range        [1e+00, 1e+00]\n",
      "Found heuristic solution: objective 600.0000000\n",
      "Presolve time: 0.01s\n",
      "Presolved: 35 rows, 45 columns, 105 nonzeros\n",
      "Variable types: 0 continuous, 45 integer (45 binary)\n",
      "\n",
      "Root relaxation: objective -1.100000e+02, 11 iterations, 0.01 seconds (0.00 work units)\n",
      "\n",
      "    Nodes    |    Current Node    |     Objective Bounds      |     Work\n",
      " Expl Unexpl |  Obj  Depth IntInf | Incumbent    BestBd   Gap | It/Node Time\n",
      "\n",
      "     0     0 -110.00000    0    8  600.00000 -110.00000   118%     -    0s\n",
      "H    0     0                      26.0000000 -110.00000   523%     -    0s\n",
      "H    0     0                      14.0000000 -110.00000   886%     -    0s\n",
      "     0     0 -110.00000    0   10   14.00000 -110.00000   886%     -    0s\n",
      "     0     0  -32.00000    0   11   14.00000  -32.00000   329%     -    0s\n",
      "     0     0    1.00000    0    9   14.00000    1.00000  92.9%     -    0s\n",
      "H    0     0                       8.0000000    1.00000  87.5%     -    0s\n",
      "H    0     0                       6.0000000    1.00000  83.3%     -    0s\n",
      "     0     0    1.00000    0    9    6.00000    1.00000  83.3%     -    0s\n",
      "\n",
      "Cutting planes:\n",
      "  Gomory: 2\n",
      "  MIR: 4\n",
      "  Zero half: 8\n",
      "  RLT: 2\n",
      "  BQP: 4\n",
      "\n",
      "Explored 1 nodes (54 simplex iterations) in 0.10 seconds (0.00 work units)\n",
      "Thread count was 4 (of 4 available processors)\n",
      "\n",
      "Solution count 5: 6 8 14 ... 600\n",
      "\n",
      "Optimal solution found (tolerance 1.00e-04)\n",
      "Best objective 6.000000000000e+00, best bound 6.000000000000e+00, gap 0.0000%\n"
     ]
    },
    {
     "data": {
      "text/plain": [
       "objective function: 6.0\n",
       "set sums: [8, 11, 11]\n",
       "sets:\n",
       "[8]\n",
       "[6, 5]\n",
       "[7, 4]"
      ]
     },
     "execution_count": 4,
     "metadata": {},
     "output_type": "execute_result"
    }
   ],
   "source": [
    "solver = MNP(source=data_small, algorithm=ExactAlgorithm(number_of_sets=3))\n",
    "_of, _sets = solver.solve_problem()\n",
    "solver"
   ]
  },
  {
   "cell_type": "markdown",
   "id": "543f533d",
   "metadata": {},
   "source": [
    "### Simple heuristics algorithm"
   ]
  },
  {
   "cell_type": "code",
   "execution_count": 5,
   "id": "6ec96877",
   "metadata": {},
   "outputs": [
    {
     "data": {
      "text/plain": [
       "objective function: 38.0\n",
       "set sums: [7, 15, 8]\n",
       "sets:\n",
       "[7]\n",
       "[6, 5, 4]\n",
       "[8]"
      ]
     },
     "execution_count": 5,
     "metadata": {},
     "output_type": "execute_result"
    }
   ],
   "source": [
    "solver = MNP(source=data_small, algorithm=SimpleHeuristics(method='random_split', number_of_sets=3))\n",
    "_of, _sets = solver.solve_problem()\n",
    "solver"
   ]
  },
  {
   "cell_type": "code",
   "execution_count": 10,
   "id": "97340557",
   "metadata": {},
   "outputs": [
    {
     "data": {
      "text/plain": [
       "objective function: 6.0\n",
       "set sums: [8, 11, 11]\n",
       "sets:\n",
       "[8]\n",
       "[7, 4]\n",
       "[6, 5]"
      ]
     },
     "execution_count": 10,
     "metadata": {},
     "output_type": "execute_result"
    }
   ],
   "source": [
    "solver = MNP(source=data_small, algorithm=SimpleHeuristics(method='greedy', number_of_sets=3))\n",
    "_of, _sets = solver.solve_problem()\n",
    "solver"
   ]
  },
  {
   "cell_type": "markdown",
   "id": "54bf4cad",
   "metadata": {},
   "source": [
    "### Simulated annealing"
   ]
  },
  {
   "cell_type": "code",
   "execution_count": 21,
   "id": "a3435414",
   "metadata": {},
   "outputs": [
    {
     "data": {
      "text/plain": [
       "objective function: 6.0\n",
       "set sums: [8, 11, 11]\n",
       "sets:\n",
       "[8]\n",
       "[7, 4]\n",
       "[6, 5]"
      ]
     },
     "execution_count": 21,
     "metadata": {},
     "output_type": "execute_result"
    }
   ],
   "source": [
    "solver = MNP(source=data_small, algorithm=SimulatedAnnealing(number_of_sets=3))\n",
    "_of, _sets = solver.solve_problem()\n",
    "solver"
   ]
  },
  {
   "cell_type": "markdown",
   "id": "2a0a951d",
   "metadata": {},
   "source": [
    "### Tabu search"
   ]
  },
  {
   "cell_type": "code",
   "execution_count": 4,
   "id": "2b0cd285",
   "metadata": {},
   "outputs": [
    {
     "data": {
      "text/plain": [
       "objective function: 6.0\n",
       "set sums: [11, 8, 11]\n",
       "sets:\n",
       "[4, 7]\n",
       "[8]\n",
       "[6, 5]"
      ]
     },
     "execution_count": 4,
     "metadata": {},
     "output_type": "execute_result"
    }
   ],
   "source": [
    "solver = MNP(source=data_small, algorithm=TabuSearch(method_changes='max-min', number_of_sets=3))\n",
    "_of, _sets = solver.solve_problem()\n",
    "solver"
   ]
  },
  {
   "cell_type": "markdown",
   "id": "04fa5290",
   "metadata": {},
   "source": [
    "### Ant colony optimization"
   ]
  },
  {
   "cell_type": "code",
   "execution_count": 5,
   "id": "b22c60d4",
   "metadata": {},
   "outputs": [
    {
     "data": {
      "text/plain": [
       "objective function: 6.0\n",
       "set sums: [11, 8, 11]\n",
       "sets:\n",
       "[7, 4]\n",
       "[8]\n",
       "[6, 5]"
      ]
     },
     "execution_count": 5,
     "metadata": {},
     "output_type": "execute_result"
    }
   ],
   "source": [
    "solver = MNP(source=data_small, algorithm=AntColonyOptimization(number_of_sets=3,\n",
    "                                                        epochs=10, ant_soldiers=5, ant_queens = 5))\n",
    "_of, _sets = solver.solve_problem()\n",
    "solver"
   ]
  },
  {
   "cell_type": "markdown",
   "id": "ec301a47",
   "metadata": {},
   "source": [
    "### Genetic"
   ]
  },
  {
   "cell_type": "code",
   "execution_count": 3,
   "id": "3957ca91",
   "metadata": {},
   "outputs": [
    {
     "data": {
      "text/plain": [
       "objective function: 6.0\n",
       "set sums: [8, 11, 11]\n",
       "sets:\n",
       "[8]\n",
       "[7, 4]\n",
       "[6, 5]"
      ]
     },
     "execution_count": 3,
     "metadata": {},
     "output_type": "execute_result"
    }
   ],
   "source": [
    "solver = MNP(source=data_small, algorithm=Genetic(number_of_sets=3, max_num_split=1, number_of_epoch=100))\n",
    "_of, _sets = solver.solve_problem()\n",
    "solver"
   ]
  },
  {
   "cell_type": "markdown",
   "id": "9af011a9",
   "metadata": {},
   "source": [
    "### Parallel Genetic"
   ]
  },
  {
   "cell_type": "code",
   "execution_count": 3,
   "id": "aede2bad",
   "metadata": {},
   "outputs": [
    {
     "data": {
      "text/plain": [
       "objective function: 6.0\n",
       "set sums: [8, 11, 11]\n",
       "sets:\n",
       "[8]\n",
       "[7, 4]\n",
       "[6, 5]"
      ]
     },
     "execution_count": 3,
     "metadata": {},
     "output_type": "execute_result"
    }
   ],
   "source": [
    "solver = MNP(source=data_small, algorithm=Genetic(number_of_sets=3, max_num_split=1, number_of_epoch=100,\n",
    "                                                 num_population=3, num_migration=2, \n",
    "                                                  method_choose_parent='tournament'))\n",
    "_of, _sets = solver.solve_problem()\n",
    "solver"
   ]
  },
  {
   "cell_type": "markdown",
   "id": "ca39b721",
   "metadata": {},
   "source": [
    "## Big instance"
   ]
  },
  {
   "cell_type": "code",
   "execution_count": 21,
   "id": "95d72891",
   "metadata": {},
   "outputs": [
    {
     "name": "stdout",
     "output_type": "stream",
     "text": [
      "greedy:               65136102.0\n",
      "SA swap one-move:     34679510.0\n",
      "SA swap random:       29547482.0\n",
      "SA swap max-random:   22932740.0\n",
      "SA swap max-min:      9125246.0\n"
     ]
    }
   ],
   "source": [
    "solver_gr = MNP(source=data_big, algorithm=SimpleHeuristics(method='greedy', number_of_sets=20))\n",
    "_of_gr, _sets_gr = solver_gr.solve_problem()\n",
    "print(\"greedy:              \", _of_gr)\n",
    "\n",
    "solver_sa1 = MNP(source=data_big, algorithm=SimulatedAnnealing(max_iter=1000, t_min=1, t_max=1000,\n",
    "                                                               method_changes='one-move', number_of_sets=20))\n",
    "_of_sa1, _sets_sa1 = solver_sa1.solve_problem()\n",
    "print(\"SA swap one-move:    \", _of_sa1)\n",
    "\n",
    "solver_sa2 = MNP(source=data_big, algorithm=SimulatedAnnealing(max_iter=1000, t_min=1, t_max=1000,\n",
    "                                                               method_changes='random', number_of_sets=20))\n",
    "_of_sa2, _sets_sa2 = solver_sa2.solve_problem()\n",
    "print(\"SA swap random:      \", _of_sa2)\n",
    "\n",
    "solver_sa3 = MNP(source=data_big, algorithm=SimulatedAnnealing(max_iter=1000, t_min=1, t_max=1000,\n",
    "                                                               method_changes='max-random', number_of_sets=20))\n",
    "_of_sa3, _sets_sa3 = solver_sa3.solve_problem()\n",
    "print(\"SA swap max-random:  \", _of_sa3)\n",
    "\n",
    "solver_sa4 = MNP(source=data_big, algorithm=SimulatedAnnealing(max_iter=1000, t_min=1, t_max=1000,\n",
    "                                                               method_changes='max-min', number_of_sets=20))\n",
    "_of_sa4, _sets_sa4 = solver_sa4.solve_problem()\n",
    "print(\"SA swap max-min:     \", _of_sa4)"
   ]
  },
  {
   "cell_type": "code",
   "execution_count": 22,
   "id": "a14b751e",
   "metadata": {},
   "outputs": [
    {
     "name": "stdout",
     "output_type": "stream",
     "text": [
      "greedy:               65136102.0\n",
      "TS one move:          47999256.0\n",
      "TS swap random:       65136102.0\n",
      "TS swap max-random:   31420656.0\n",
      "TS swap max-min:      154012.0\n"
     ]
    }
   ],
   "source": [
    "solver_gr = MNP(source=data_big, algorithm=SimpleHeuristics(method='greedy', number_of_sets=20))\n",
    "_of_gr, _sets_gr = solver_gr.solve_problem()\n",
    "print(\"greedy:              \", _of_gr)\n",
    "\n",
    "solver_ts1 = MNP(source=data_big, algorithm=TabuSearch(max_iter=1000, method_changes='one-move', number_of_sets=20))\n",
    "_of_ts1, _sets_ts1 = solver_ts1.solve_problem()\n",
    "print(\"TS one move:         \", _of_ts1)\n",
    "\n",
    "solver_ts2 = MNP(source=data_big, algorithm=TabuSearch(max_iter=1000, method_changes='random', number_of_sets=20))\n",
    "_of_ts2, _sets_ts2 = solver_ts2.solve_problem()\n",
    "print(\"TS swap random:      \", _of_ts2)\n",
    "\n",
    "solver_ts3 = MNP(source=data_big, algorithm=TabuSearch(max_iter=1000, method_changes='max-random', number_of_sets=20))\n",
    "_of_ts3, _sets_ts3 = solver_ts3.solve_problem()\n",
    "print(\"TS swap max-random:  \", _of_ts3)\n",
    "\n",
    "solver_ts4 = MNP(source=data_big, algorithm=TabuSearch(max_iter=1000, method_changes='max-min', number_of_sets=20))\n",
    "_of_ts4, _sets_ts4 = solver_ts4.solve_problem()\n",
    "print(\"TS swap max-min:     \", _of_ts4)"
   ]
  },
  {
   "cell_type": "code",
   "execution_count": 4,
   "id": "1655ea73",
   "metadata": {},
   "outputs": [
    {
     "name": "stdout",
     "output_type": "stream",
     "text": [
      "greedy :    65136102.0\n",
      "ACO 1:      31627936.0\n",
      "ACO 2:      65136102.0\n",
      "ACO 3:      37094208.0\n",
      "ACO 4:      59613428.0\n"
     ]
    }
   ],
   "source": [
    "solver_gr = MNP(source=data_big, algorithm=SimpleHeuristics(method='greedy', number_of_sets=20))\n",
    "_of_gr, _sets_gr = solver_gr.solve_problem()\n",
    "print(\"greedy :   \", _of_gr)\n",
    "\n",
    "solver_aco1 = MNP(source=data_big, algorithm=AntColonyOptimization(number_of_sets=20,\n",
    "                                                    epochs=10, ant_soldiers=20, ant_queens = 5, q = 100000\n",
    "                                                   ))\n",
    "_of_aco1, _sets_aco1 = solver_aco1.solve_problem()\n",
    "print(\"ACO 1:     \", _of_aco1)\n",
    "\n",
    "solver_aco2 = MNP(source=data_big, algorithm=AntColonyOptimization(number_of_sets=20,\n",
    "                                                    epochs=10, ant_soldiers=20, ant_queens = 5, q = 10000))\n",
    "_of_aco2, _sets_aco2 = solver_aco2.solve_problem()\n",
    "print(\"ACO 2:     \", _of_aco2)\n",
    "\n",
    "solver_aco3 = MNP(source=data_big, algorithm=AntColonyOptimization(number_of_sets=20, \n",
    "                                                     epochs=100, ant_soldiers=10, ant_queens = 3,\n",
    "                                                     alpha = 0.5, forgetfulness = 0.3, q = 10000))\n",
    "_of_aco3, _sets_aco3 = solver_aco3.solve_problem()\n",
    "print(\"ACO 3:     \", _of_aco3)\n",
    "\n",
    "solver_aco4 = MNP(source=data_big, algorithm=AntColonyOptimization(number_of_sets=20, \n",
    "                                                     epochs=100, ant_soldiers=10, ant_queens = 3,\n",
    "                                                     alpha = 0.5, forgetfulness = 0.8, q = 10000))\n",
    "_of_aco4, _sets_aco4 = solver_aco4.solve_problem()\n",
    "print(\"ACO 4:     \", _of_aco4)"
   ]
  },
  {
   "cell_type": "code",
   "execution_count": 15,
   "id": "000f9d40",
   "metadata": {},
   "outputs": [
    {
     "name": "stdout",
     "output_type": "stream",
     "text": [
      "greedy :                65136102.0\n",
      "genetic (100 epochs):   8085510.0\n",
      "genetic (1000 epochs):  3001648.0\n",
      "genetic (1500 epochs):  2312338.0\n"
     ]
    }
   ],
   "source": [
    "solver_gr = MNP(source=data_big, algorithm=SimpleHeuristics(method='greedy', number_of_sets=20))\n",
    "_of_gr, _sets_gr = solver_gr.solve_problem()\n",
    "print(\"greedy :               \", _of_gr)\n",
    "\n",
    "solver_gen1 = MNP(source=data_big, algorithm=Genetic(number_of_sets=20, max_num_split=3, number_of_epoch=100))\n",
    "_of_gen1, _sets_gen1 = solver_gen1.solve_problem()\n",
    "print(\"genetic (100 epochs):  \", _of_gen1)\n",
    "\n",
    "solver_gen2 = MNP(source=data_big, algorithm=Genetic(number_of_sets=20, max_num_split=3, number_of_epoch=1000))\n",
    "_of_gen2, _sets_gen2 = solver_gen2.solve_problem()\n",
    "print(\"genetic (1000 epochs): \", _of_gen2)\n",
    "\n",
    "solver_gen = MNP(source=data_big, algorithm=Genetic(number_of_sets=20, max_num_split=5, number_of_epoch=1500))\n",
    "_of_gen3, _sets_gen3 = solver_gen.solve_problem()\n",
    "print(\"genetic (1500 epochs): \", _of_gen)"
   ]
  },
  {
   "cell_type": "code",
   "execution_count": 4,
   "id": "7802e8c4",
   "metadata": {
    "scrolled": true
   },
   "outputs": [
    {
     "name": "stdout",
     "output_type": "stream",
     "text": [
      "greedy :                                       65136102.0\n",
      "genetic ПГА (10 epochs, 10 size_population):   6464626.0\n",
      "genetic ПГА (50 epochs, 30 size_population):  2064242.0\n"
     ]
    }
   ],
   "source": [
    "solver_gr = MNP(source=data_big, algorithm=SimpleHeuristics(method='greedy', number_of_sets=20))\n",
    "_of_gr, _sets_gr = solver_gr.solve_problem()\n",
    "print(\"greedy :                                      \", _of_gr)\n",
    "\n",
    "solver_gen1 = MNP(source=data_big, algorithm=Genetic(number_of_sets=20, max_num_split=3, number_of_epoch=10, \n",
    "                                                     num_population=20, num_migration=4))\n",
    "_of_gen1, _sets_gen1 = solver_gen1.solve_problem()\n",
    "print(\"genetic ПГА (10 epochs, 10 size_population):  \", _of_gen1)\n",
    "\n",
    "solver_gen2 = MNP(source=data_big, algorithm=Genetic(number_of_sets=20, max_num_split=3, \n",
    "                                                     size_population = 30, number_of_epoch=50, \n",
    "                                                     num_population=20, num_migration=4))\n",
    "_of_gen2, _sets_gen2 = solver_gen2.solve_problem()\n",
    "print(\"genetic ПГА (50 epochs, 30 size_population): \", _of_gen2)"
   ]
  },
  {
   "cell_type": "code",
   "execution_count": 4,
   "id": "60be09ea",
   "metadata": {},
   "outputs": [
    {
     "name": "stdout",
     "output_type": "stream",
     "text": [
      "greedy :                                                  65136102.0\n",
      "genetic ПГА tournament (10 epochs, 10 size_population):   6082202.0\n",
      "genetic ПГА roulette (10 epochs, 10 size_population):     5992830.0\n",
      "genetic ПГА best (10 epochs, 10 size_population):         3551614.0\n",
      "genetic ПГА tournament (50 epochs, 30 size_population):    1054048.0\n"
     ]
    }
   ],
   "source": [
    "solver_gr = MNP(source=data_big, algorithm=SimpleHeuristics(method='greedy', number_of_sets=20))\n",
    "_of_gr, _sets_gr = solver_gr.solve_problem()\n",
    "print(\"greedy :                                                 \", _of_gr)\n",
    "\n",
    "solver_gen1 = MNP(source=data_big, algorithm=Genetic(number_of_sets=20, max_num_split=3, number_of_epoch=10, \n",
    "                                                     num_population=20, num_migration=4,\n",
    "                                                     method_choose_parent='tournament'))\n",
    "_of_gen1, _sets_gen1 = solver_gen1.solve_problem()\n",
    "print(\"genetic ПГА tournament (10 epochs, 10 size_population):  \", _of_gen1)\n",
    "\n",
    "solver_gen2 = MNP(source=data_big, algorithm=Genetic(number_of_sets=20, max_num_split=3, number_of_epoch=10, \n",
    "                                                     num_population=20, num_migration=4,\n",
    "                                                     method_choose_parent='roulette'))\n",
    "_of_gen2, _sets_gen2 = solver_gen2.solve_problem()\n",
    "print(\"genetic ПГА roulette (10 epochs, 10 size_population):    \", _of_gen2)\n",
    "\n",
    "solver_gen3 = MNP(source=data_big, algorithm=Genetic(number_of_sets=20, max_num_split=3, number_of_epoch=10, \n",
    "                                                     num_population=20, num_migration=4,\n",
    "                                                     method_choose_parent='best'))\n",
    "_of_gen3, _sets_gen3 = solver_gen3.solve_problem()\n",
    "print(\"genetic ПГА best (10 epochs, 10 size_population):        \", _of_gen3)\n",
    "\n",
    "solver_gen4 = MNP(source=data_big, algorithm=Genetic(number_of_sets=20, max_num_split=3, \n",
    "                                                     size_population = 30, number_of_epoch=50, \n",
    "                                                     num_population=20, num_migration=4,\n",
    "                                                     method_choose_parent='tournament'))\n",
    "_of_gen4, _sets_gen4 = solver_gen4.solve_problem()\n",
    "print(\"genetic ПГА tournament (50 epochs, 30 size_population):   \", _of_gen4)"
   ]
  },
  {
   "cell_type": "code",
   "execution_count": 5,
   "id": "a0830b95",
   "metadata": {},
   "outputs": [
    {
     "name": "stdout",
     "output_type": "stream",
     "text": [
      "genetic ПГА best (50 epochs, 30 size_population):    1372470.0\n"
     ]
    }
   ],
   "source": [
    "solver_gen5 = MNP(source=data_big, algorithm=Genetic(number_of_sets=20, max_num_split=3, \n",
    "                                                     size_population = 30, number_of_epoch=50, \n",
    "                                                     num_population=20, num_migration=4,\n",
    "                                                     method_choose_parent='best'))\n",
    "_of_gen5, _sets_gen5 = solver_gen5.solve_problem()\n",
    "print(\"genetic ПГА best (50 epochs, 30 size_population):   \", _of_gen5)"
   ]
  }
 ],
 "metadata": {
  "kernelspec": {
   "display_name": "Python 3 (ipykernel)",
   "language": "python",
   "name": "python3"
  },
  "language_info": {
   "codemirror_mode": {
    "name": "ipython",
    "version": 3
   },
   "file_extension": ".py",
   "mimetype": "text/x-python",
   "name": "python",
   "nbconvert_exporter": "python",
   "pygments_lexer": "ipython3",
   "version": "3.10.4"
  }
 },
 "nbformat": 4,
 "nbformat_minor": 5
}
